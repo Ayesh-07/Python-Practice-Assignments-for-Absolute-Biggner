{
  "nbformat": 4,
  "nbformat_minor": 0,
  "metadata": {
    "colab": {
      "provenance": [],
      "authorship_tag": "ABX9TyNQ18PWS6xpfpwSUtiET5w9",
      "include_colab_link": true
    },
    "kernelspec": {
      "name": "python3",
      "display_name": "Python 3"
    },
    "language_info": {
      "name": "python"
    }
  },
  "cells": [
    {
      "cell_type": "markdown",
      "metadata": {
        "id": "view-in-github",
        "colab_type": "text"
      },
      "source": [
        "<a href=\"https://colab.research.google.com/github/Ayesh-07/Python-Practice-Assignments-for-Absolute-Biggner/blob/main/Assignment_2.ipynb\" target=\"_parent\"><img src=\"https://colab.research.google.com/assets/colab-badge.svg\" alt=\"Open In Colab\"/></a>"
      ]
    },
    {
      "cell_type": "markdown",
      "source": [
        "\n",
        "\n",
        "---\n",
        "\n",
        "\n",
        "\n",
        "\n",
        "# **Ayesha Nudrat**\n",
        "\n",
        "                            \n",
        "---\n",
        "\n"
      ],
      "metadata": {
        "id": "0WvAGwoIA8Rp"
      }
    },
    {
      "cell_type": "markdown",
      "source": [
        "**1 - Calculate the multiplication and sum of two numbers.**"
      ],
      "metadata": {
        "id": "FJ1Dy3tB5gNV"
      }
    },
    {
      "cell_type": "code",
      "source": [
        "num1 =  int(input(\"Enter any your first number : \"))\n",
        "num2 =  int(input(\"Enter any your second number : \"))\n",
        "\n",
        "# For Mutiplication\n",
        "ans  = num1 * num2\n",
        "print (f\"Multiplication of {num1} and {num2} is : {ans}\")\n",
        "\n",
        "# For Sum\n",
        "ans  = num1 + num2\n",
        "print (f\"Sum of {num1} and {num2} is : {ans}\")\n"
      ],
      "metadata": {
        "colab": {
          "base_uri": "https://localhost:8080/"
        },
        "id": "2yfmKOYMA-tB",
        "outputId": "94f23035-7424-4473-e886-c6b8c19cef82"
      },
      "execution_count": null,
      "outputs": [
        {
          "output_type": "stream",
          "name": "stdout",
          "text": [
            "Enter any your first number : 2\n",
            "Enter any your second number : 4\n",
            "Multiplication of 2 and 4 is : 8\n",
            "Sum of 2 and 4 is : 6\n"
          ]
        }
      ]
    },
    {
      "cell_type": "markdown",
      "source": [
        "**2 - Take two inputs from user and check whether they are equal or not.**\n"
      ],
      "metadata": {
        "id": "1sOHWUuVET2O"
      }
    },
    {
      "cell_type": "code",
      "source": [
        "# For taking two inputs from user\n",
        "value1 =  input(\"Enter any your first number : \")\n",
        "value2 =  input(\"Enter any your second number : \")\n",
        "\n",
        "# For are inputs equal?\n",
        "result = value1 is value2\n",
        "print (result)\n",
        "\n",
        "# For are not inputs equal?\n",
        "result = value1 is not value2\n",
        "print (result)\n"
      ],
      "metadata": {
        "colab": {
          "base_uri": "https://localhost:8080/"
        },
        "id": "YKGdieLtEdbk",
        "outputId": "d425a813-9a1a-4e3b-a17b-ae9a8fff928a"
      },
      "execution_count": null,
      "outputs": [
        {
          "output_type": "stream",
          "name": "stdout",
          "text": [
            "Enter any your first number : 8\n",
            "Enter any your second number : 4\n",
            "False\n",
            "True\n"
          ]
        }
      ]
    },
    {
      "cell_type": "markdown",
      "source": [
        "**3 - Write a program to convert the integer to a float.**\n"
      ],
      "metadata": {
        "id": "zzLN0R12GPkc"
      }
    },
    {
      "cell_type": "code",
      "source": [
        "# type casting\n",
        "\n",
        "value = int(1000)\n",
        "print (type(value))\n",
        "\n",
        "#convert the integer to a float\n",
        "\n",
        "value = float(1000)\n",
        "print (type(value))\n",
        "\n"
      ],
      "metadata": {
        "colab": {
          "base_uri": "https://localhost:8080/"
        },
        "id": "HTNpsuv9GW8e",
        "outputId": "6885b2b8-10d1-4706-ad2b-4833573c065f"
      },
      "execution_count": null,
      "outputs": [
        {
          "output_type": "stream",
          "name": "stdout",
          "text": [
            "<class 'int'>\n",
            "<class 'float'>\n"
          ]
        }
      ]
    },
    {
      "cell_type": "markdown",
      "source": [
        "**4 - Take two different string inputs and print them in same line. E.g INPUT: ICode    ,  INPUT: Guru    ,  OUTPUT: ICodeGuru**\n",
        "\n"
      ],
      "metadata": {
        "id": "HqA9uhTaJUde"
      }
    },
    {
      "cell_type": "code",
      "source": [
        "#concatenation\n",
        "\n",
        "input1 = \"ICode\"\n",
        "input2 = \"Guru\"\n",
        "result = input1 + input2\n",
        "print(f\"The concatenation of '{input1}' and '{input2}' is:  {result}\")\n"
      ],
      "metadata": {
        "colab": {
          "base_uri": "https://localhost:8080/"
        },
        "id": "cUdxJc_HJW0r",
        "outputId": "03d871a4-2005-4e44-e0fc-a3dfed6bbcdb"
      },
      "execution_count": null,
      "outputs": [
        {
          "output_type": "stream",
          "name": "stdout",
          "text": [
            "The concatenation of 'ICode' and 'Guru' is:  ICodeGuru\n"
          ]
        }
      ]
    },
    {
      "cell_type": "markdown",
      "source": [
        "**5 - Write a program that calculates the area of a circle based on the radius entered by the user.**"
      ],
      "metadata": {
        "id": "fGT-UFqdLUlI"
      }
    },
    {
      "cell_type": "code",
      "source": [
        "import math\n",
        "\n",
        "radius = float(input(\"Enter the radius of the circle: \"))\n",
        "\n",
        "# formula: area = 𝜋 × radius**2\n",
        "\n",
        "area = math.pi * (radius ** 2)\n",
        "print ( \"Area of a circle : \" , int(area))\n",
        "\n"
      ],
      "metadata": {
        "colab": {
          "base_uri": "https://localhost:8080/"
        },
        "id": "EsyrFR_ULVpA",
        "outputId": "6a30ef40-df0b-40a3-a70b-6b56e658dd95"
      },
      "execution_count": null,
      "outputs": [
        {
          "output_type": "stream",
          "name": "stdout",
          "text": [
            "Enter the radius of the circle: 6\n",
            "Area of a circle :  113\n"
          ]
        }
      ]
    },
    {
      "cell_type": "markdown",
      "source": [
        "**6 - Write a program to get the volume of a sphere with a radius six.**"
      ],
      "metadata": {
        "id": "0R6cqk10bt-3"
      }
    },
    {
      "cell_type": "code",
      "source": [
        "import math\n",
        "\n",
        "radius = 6\n",
        "\n",
        "# Formula  volume = (4/3) * 𝜋 * (radius ** 3)\n",
        "\n",
        "volume = (4/3) * math.pi * (radius ** 3)\n",
        "\n",
        "print(\" volume of a sphere with a radius six : \" , int(volume))\n",
        "\n"
      ],
      "metadata": {
        "colab": {
          "base_uri": "https://localhost:8080/"
        },
        "id": "RF8AudGRcCIx",
        "outputId": "0de5442c-5ab2-42b4-9820-859acd73461b"
      },
      "execution_count": null,
      "outputs": [
        {
          "output_type": "stream",
          "name": "stdout",
          "text": [
            " volume of a sphere with a radius six :  904\n"
          ]
        }
      ]
    },
    {
      "cell_type": "markdown",
      "source": [
        "**7 - Write a program to calculate the sum of three given numbers. If the values are equal, return three times their sum.**"
      ],
      "metadata": {
        "id": "c4l9qxwAeFWF"
      }
    },
    {
      "cell_type": "code",
      "source": [
        "a = int(input(\"Enter the first number: \"))\n",
        "b = int(input(\"Enter the second number: \"))\n",
        "c = int(input(\"Enter the third number: \"))\n",
        "\n",
        "Sum = a + b + c\n",
        "\n",
        "# Return three times the sum if all numbers are equal\n",
        "if a == b == c:\n",
        "  print (Sum * 3)\n",
        "else:\n",
        "  print(Sum)"
      ],
      "metadata": {
        "id": "DhiZt72ijUTE",
        "colab": {
          "base_uri": "https://localhost:8080/"
        },
        "outputId": "1c58b91f-a8d2-4bbc-8d16-7a894cc1d1c4"
      },
      "execution_count": null,
      "outputs": [
        {
          "output_type": "stream",
          "name": "stdout",
          "text": [
            "Enter the first number: 5\n",
            "Enter the second number: 5\n",
            "Enter the third number: 5\n",
            "45\n"
          ]
        }
      ]
    },
    {
      "cell_type": "markdown",
      "source": [
        " **8- Suppose passing marks of a subject is 35. Take input of marks from user and check whether it is greater than passing marks or not.**\n"
      ],
      "metadata": {
        "id": "dhKjb7UajVY3"
      }
    },
    {
      "cell_type": "code",
      "source": [
        "marks  = int(input(\"Enter your marks : \"))\n",
        "\n",
        "passing_marks = 35\n",
        "# Checking if marks obtained are greater than passing marks or not\n",
        "if marks >= passing_marks:\n",
        "    print(\"Congratulations! You've passed.\")\n",
        "else:\n",
        "    print(\"Unfortunately, you didn't pass.\")\n"
      ],
      "metadata": {
        "id": "HS-vFQ4qjb-W",
        "colab": {
          "base_uri": "https://localhost:8080/"
        },
        "outputId": "fcb0056b-af0b-48c7-b896-9747ce7736bf"
      },
      "execution_count": null,
      "outputs": [
        {
          "output_type": "stream",
          "name": "stdout",
          "text": [
            "Enter your marks : 56\n",
            "Congratulations! You've passed.\n"
          ]
        }
      ]
    },
    {
      "cell_type": "markdown",
      "source": [
        "**9- Write a program to swap two variables.**"
      ],
      "metadata": {
        "id": "BANGXiv2jcyO"
      }
    },
    {
      "cell_type": "code",
      "source": [
        "a = 78\n",
        "b = 90\n",
        "\n",
        "# Swap the values\n",
        "a, b = b, a\n",
        "\n",
        "# Print the swapped values\n",
        "\n",
        "print(f\"After Swapping: a = {a}, b = {b} \")\n",
        "\n"
      ],
      "metadata": {
        "id": "dI-9HOfejgS0",
        "colab": {
          "base_uri": "https://localhost:8080/"
        },
        "outputId": "c9c0f76c-0bb7-4f73-d553-6806f6f0be64"
      },
      "execution_count": null,
      "outputs": [
        {
          "output_type": "stream",
          "name": "stdout",
          "text": [
            "After Swapping: a = 90, b = 78 \n"
          ]
        }
      ]
    },
    {
      "cell_type": "markdown",
      "source": [
        "**10- Write a program to Find the Square Root**\n"
      ],
      "metadata": {
        "id": "NbR1ff3UlaAG"
      }
    },
    {
      "cell_type": "code",
      "source": [
        "import math\n",
        "\n",
        "number = int(input(\"Enter a number to calculate its square root: \"))\n",
        "\n",
        "  # Calculate the square root\n",
        "square_root = math.sqrt(number)\n",
        "\n",
        "\n",
        "print(f\" Square Root of the given number '{number}' is : {int(square_root)} \")\n",
        "\n"
      ],
      "metadata": {
        "colab": {
          "base_uri": "https://localhost:8080/"
        },
        "id": "4hZSP-uZleTo",
        "outputId": "40854502-fee5-4f81-de1a-a0f12dc56c9b"
      },
      "execution_count": null,
      "outputs": [
        {
          "output_type": "stream",
          "name": "stdout",
          "text": [
            "Enter a number to calculate its square root: 49\n",
            " Square Root of the given number '49' is : 7 \n"
          ]
        }
      ]
    },
    {
      "cell_type": "markdown",
      "source": [
        "**11 - Write a program to Convert Kilometers to Miles.**\n"
      ],
      "metadata": {
        "id": "mWY5y2q6oa5X"
      }
    },
    {
      "cell_type": "code",
      "source": [
        "\n",
        "kilometers = float(input(\"Enter the distance in km for converting to miles: \"))\n",
        "\n",
        "# Conversion factor from km to miles\n",
        "conversion_factor = 0.621371\n",
        "\n",
        "# Calculate the distance in miles\n",
        "miles = kilometers * conversion_factor\n",
        "\n",
        "print(f\"'{int(kilometers)}' km is equal to '{int(miles)}' miles\")"
      ],
      "metadata": {
        "colab": {
          "base_uri": "https://localhost:8080/"
        },
        "id": "Wvl-GfXVohbz",
        "outputId": "aeef3b30-cb5b-44ed-c237-0e0c59483d8b"
      },
      "execution_count": null,
      "outputs": [
        {
          "output_type": "stream",
          "name": "stdout",
          "text": [
            "Enter the distance in km for converting to miles: 7000\n",
            "'7000' km is equal to '4349' miles\n"
          ]
        }
      ]
    },
    {
      "cell_type": "markdown",
      "source": [
        "\n",
        " **12 - A school has the following rules for the grading system: a. Below 25 - F  b. 25 to 45 - E c. 45 to 50 - D d. 50 to 60 - C e. 60 to 80 - B f. Above 80 - A Ask the user to enter marks and print the corresponding grade**\n",
        "\n",
        "\n",
        "\n",
        "\n",
        "\n",
        "\n"
      ],
      "metadata": {
        "id": "Nr6SLCFQTY3J"
      }
    },
    {
      "cell_type": "code",
      "source": [
        "grade = float(input(\"Enter your grade: \"))\n",
        "\n",
        "# For implement Grading System\n",
        "\n",
        "if grade < 25:\n",
        "    print('Your grade is : F')\n",
        "elif 25 <= grade < 45:\n",
        "    print('Your grade is : E')\n",
        "elif 45 <= grade < 50:\n",
        "    print('Your grade is : D')\n",
        "elif 50 <= grade < 60:\n",
        "    print('Your grade is : C')\n",
        "elif 60 <= grade < 80:\n",
        "    print('Your grade is : B')\n",
        "elif grade >= 80:\n",
        "    print('Your grade is : A')\n",
        "else:\n",
        "    print('Invalid grade')\n"
      ],
      "metadata": {
        "colab": {
          "base_uri": "https://localhost:8080/"
        },
        "id": "BxMT4ydmTerz",
        "outputId": "b10076ba-ae1b-47ba-9954-d80fe3bc19e3"
      },
      "execution_count": null,
      "outputs": [
        {
          "output_type": "stream",
          "name": "stdout",
          "text": [
            "Enter your grade: 70\n",
            "Your grade is : B\n"
          ]
        }
      ]
    },
    {
      "cell_type": "markdown",
      "source": [
        " **13 - Write a program to input 5 values one by one and determine if the given value is odd or even.**"
      ],
      "metadata": {
        "id": "llDMoSm3dIAi"
      }
    },
    {
      "cell_type": "code",
      "source": [
        "numbers = [1,2,3,4,5]\n",
        "\n",
        "# Input 5 values from the user\n",
        "for num in numbers:\n",
        "    value = input(f\"Enter value {num}: \")\n",
        "\n",
        "    # Check if input is a valid integer\n",
        "\n",
        "    if value.isdigit():\n",
        "        value = int(value)\n",
        "\n",
        "        # Determine if the value is odd or even\n",
        "\n",
        "        if value % 2 == 0:\n",
        "            print(f\"The value {value} is an even number.\")\n",
        "        else:\n",
        "            print(f\"The value {value} is an odd number.\")\n",
        "    else:\n",
        "        print(\"Invalid input! Please enter a positive integer.\")\n",
        "\n",
        "print(\"Finished your '5' values.\")\n",
        "\n"
      ],
      "metadata": {
        "colab": {
          "base_uri": "https://localhost:8080/"
        },
        "id": "X-f2lgIYe2d3",
        "outputId": "79861f1c-b9a6-4350-ec17-476364202e1a"
      },
      "execution_count": null,
      "outputs": [
        {
          "output_type": "stream",
          "name": "stdout",
          "text": [
            "Enter value 1: 7\n",
            "The value 7 is an odd number.\n",
            "Enter value 2: 3\n",
            "The value 3 is an odd number.\n",
            "Enter value 3: 4\n",
            "The value 4 is an even number.\n",
            "Enter value 4: 2\n",
            "The value 2 is an even number.\n",
            "Enter value 5: 9\n",
            "The value 9 is an odd number.\n",
            "Finished your '5' values.\n"
          ]
        }
      ]
    }
  ]
}