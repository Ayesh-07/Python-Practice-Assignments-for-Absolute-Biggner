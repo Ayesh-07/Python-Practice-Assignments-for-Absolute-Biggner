{
  "nbformat": 4,
  "nbformat_minor": 0,
  "metadata": {
    "colab": {
      "provenance": [],
      "authorship_tag": "ABX9TyPYoL80kt9zOnpUbApItms6",
      "include_colab_link": true
    },
    "kernelspec": {
      "name": "python3",
      "display_name": "Python 3"
    },
    "language_info": {
      "name": "python"
    }
  },
  "cells": [
    {
      "cell_type": "markdown",
      "metadata": {
        "id": "view-in-github",
        "colab_type": "text"
      },
      "source": [
        "<a href=\"https://colab.research.google.com/github/Ayesh-07/Python-Practice-Assignments-for-Absolute-Biggner/blob/main/Copy_of_Assignment_1.ipynb\" target=\"_parent\"><img src=\"https://colab.research.google.com/assets/colab-badge.svg\" alt=\"Open In Colab\"/></a>"
      ]
    },
    {
      "cell_type": "code",
      "execution_count": null,
      "metadata": {
        "colab": {
          "base_uri": "https://localhost:8080/"
        },
        "id": "Hzs39UylGlMo",
        "outputId": "f958e3d5-6805-4cf4-b3ba-d097a12fe759"
      },
      "outputs": [
        {
          "output_type": "stream",
          "name": "stdout",
          "text": [
            "a is the maximum\n"
          ]
        }
      ],
      "source": [
        "# 1. Write a program to find the maximum between two numbers.\n",
        "\n",
        "a = 10\n",
        "b = 2\n",
        "if (a > b ):\n",
        "   print (\"a is the maximum\")\n",
        "else:\n",
        "   print(\"b is the maximum\")"
      ]
    },
    {
      "cell_type": "code",
      "source": [
        "#2. Write a program to find the maximum between three numbers.\n",
        "a = 88\n",
        "b = 99\n",
        "c = 79\n",
        "if (a > b ):\n",
        "   print (\"a is the maximum\")\n",
        "elif (b > c):\n",
        "     print(\"b is the maximum\")\n",
        "else:\n",
        "     print(\"c is the maximum\")"
      ],
      "metadata": {
        "colab": {
          "base_uri": "https://localhost:8080/"
        },
        "id": "yChf7IMwGxv6",
        "outputId": "f63a60e1-d74c-4080-8f99-3784a5c1c326"
      },
      "execution_count": null,
      "outputs": [
        {
          "output_type": "stream",
          "name": "stdout",
          "text": [
            "b is the maximum\n"
          ]
        }
      ]
    },
    {
      "cell_type": "code",
      "source": [
        "#3. Write a program to check whether a number is negative, positive or zero.\n",
        "\n",
        "num = float(input(\"Enter a number: \"))\n",
        "if num < 0:\n",
        "    print(\"The number is negative.\")\n",
        "elif num > 0:\n",
        "    print(\"The number is positive.\")\n",
        "else:\n",
        "    print(\"The number is zero.\")\n",
        "\n"
      ],
      "metadata": {
        "colab": {
          "base_uri": "https://localhost:8080/"
        },
        "id": "qNIlyS8xIa6s",
        "outputId": "221ee660-cbd6-4b41-a8de-6df6696d0aed"
      },
      "execution_count": null,
      "outputs": [
        {
          "output_type": "stream",
          "name": "stdout",
          "text": [
            "Enter a number: -4789\n",
            "The number is negative.\n"
          ]
        }
      ]
    },
    {
      "cell_type": "code",
      "source": [
        "# 4. Write a program to check whether a number is divisible by 5 and 11 or not.\n",
        "\n",
        "num = int(input(\"Enter a number: \"))\n",
        "if (num % 5 == 0):\n",
        "    print(\"This number is divisible by 5 \")\n",
        "elif (num % 11 == 0):\n",
        "    print(\"This number is divisible by 11 \")\n",
        "else:\n",
        "      print(\"This number is not divisible by 5 and 11 \")\n"
      ],
      "metadata": {
        "colab": {
          "base_uri": "https://localhost:8080/"
        },
        "id": "bBe2AT4aJDiV",
        "outputId": "bcd5332c-3605-479c-cb80-83e158edcc6f"
      },
      "execution_count": null,
      "outputs": [
        {
          "output_type": "stream",
          "name": "stdout",
          "text": [
            "Enter a number: 550\n",
            "This number is divisible by 5 \n"
          ]
        }
      ]
    },
    {
      "cell_type": "code",
      "source": [
        "# 5. Write a program to check whether a number is even or odd.\n",
        "\n",
        "num = int(input(\"Enter a number: \"))\n",
        "if (num % 2 == 0):\n",
        "    print(f\"{num} number is even \")\n",
        "else:\n",
        "      print(f\"{num} number is odd\")\n"
      ],
      "metadata": {
        "colab": {
          "base_uri": "https://localhost:8080/"
        },
        "id": "4YQ3BAR5K2VO",
        "outputId": "ca818d4a-bc2a-4f06-9ec7-9f8b97136127"
      },
      "execution_count": null,
      "outputs": [
        {
          "output_type": "stream",
          "name": "stdout",
          "text": [
            "Enter a number: 3457\n",
            "3457 number is odd\n"
          ]
        }
      ]
    },
    {
      "cell_type": "code",
      "source": [
        "# 6. Write a program to check whether a year is leaping year or not.\n",
        "\n",
        "year = int(input(\"Enter a year: \"))\n",
        "\n",
        "if (year % 4 == 0 and year % 100 != 0) or (year % 400 == 0):\n",
        "    print(f\"{year} is a leap year.\")\n",
        "else:\n",
        "    print(f\"{year} is not a leap year.\")"
      ],
      "metadata": {
        "colab": {
          "base_uri": "https://localhost:8080/"
        },
        "id": "klyfKYVILWz0",
        "outputId": "0cc2d131-9e6f-4107-ada9-33b1e230a1b1"
      },
      "execution_count": null,
      "outputs": [
        {
          "output_type": "stream",
          "name": "stdout",
          "text": [
            "Enter a year: 2034\n",
            "2034 is not a leap year.\n"
          ]
        }
      ]
    },
    {
      "cell_type": "code",
      "source": [
        " # 7. Write a program to input any alphabet and check whether it is vowel or consonant.\n",
        "\n",
        "\n",
        "alphabet = input(\"Enter an alphabet: \")\n",
        "\n",
        "if len(alphabet) == 1 and alphabet.isalpha():\n",
        "\n",
        "    alphabet = alphabet.lower()\n",
        "\n",
        "    if alphabet == 'a' or alphabet == 'e' or alphabet == 'i' or alphabet == 'o' or alphabet == 'u':\n",
        "\n",
        "        print(f\"{alphabet} is a vowel.\")\n",
        "    else:\n",
        "        print(f\"{alphabet} is a consonant.\")\n",
        "else:\n",
        "    print(\"Please enter a single alphabet.\")\n",
        "\n"
      ],
      "metadata": {
        "colab": {
          "base_uri": "https://localhost:8080/"
        },
        "id": "vkiN_tzFNVy7",
        "outputId": "fdd31f91-a601-4e00-bc37-fbee61283a2e"
      },
      "execution_count": null,
      "outputs": [
        {
          "output_type": "stream",
          "name": "stdout",
          "text": [
            "Enter an alphabet: o\n",
            "o is a vowel.\n"
          ]
        }
      ]
    },
    {
      "cell_type": "code",
      "source": [
        "# 8. Write a program to check whether a character is uppercase or lowercase alphabet.\n",
        "\n",
        "\n",
        "alphabet = input(\"Enter an alphabet: \")\n",
        "if len(alphabet) == 1 and alphabet.isalpha():\n",
        "\n",
        "   if alphabet.isupper():\n",
        "      print ( f\"{alphabet} alphabet is uppercase alphabet\")\n",
        "   else:\n",
        "      print ( f\"{alphabet} alphabet is lowercase alphabet\")\n",
        "else:\n",
        "    print(\"Please enter a single alphabet.\")\n",
        "\n",
        "\n",
        "\n",
        "\n"
      ],
      "metadata": {
        "colab": {
          "base_uri": "https://localhost:8080/"
        },
        "id": "JzjsB73SQQq4",
        "outputId": "dc3a3f9d-f33f-4639-dd23-413b1a45e2a9"
      },
      "execution_count": null,
      "outputs": [
        {
          "output_type": "stream",
          "name": "stdout",
          "text": [
            "Enter an alphabet: h\n",
            "h alphabet is lowercase alphabet\n"
          ]
        }
      ]
    },
    {
      "cell_type": "code",
      "source": [
        "# 9. Write a program to input the week number and print weekday.\n",
        "\n",
        "week_number = int(input(\"Enter the week number (1-7): \"))\n",
        "\n",
        "\n",
        "if week_number == 1:\n",
        "    print(\"Monday\")\n",
        "elif week_number == 2:\n",
        "    print(\"Tuesday\")\n",
        "elif week_number == 3:\n",
        "    print(\"Wednesday\")\n",
        "elif week_number == 4:\n",
        "    print(\"Thursday\")\n",
        "elif week_number == 5:\n",
        "    print(\"Friday\")\n",
        "elif week_number == 6:\n",
        "    print(\"Saturday\")\n",
        "elif week_number == 7:\n",
        "    print(\"Sunday\")\n",
        "else:\n",
        "    print(\"Invalid week number. Please enter a number between 1 and 7.\")\n"
      ],
      "metadata": {
        "colab": {
          "base_uri": "https://localhost:8080/"
        },
        "id": "694RToCSVmUH",
        "outputId": "f8ac5372-0c1a-492d-d599-ccdb1e028692"
      },
      "execution_count": null,
      "outputs": [
        {
          "output_type": "stream",
          "name": "stdout",
          "text": [
            "Enter the week number (1-7): 7\n",
            "Sunday\n"
          ]
        }
      ]
    },
    {
      "cell_type": "code",
      "source": [
        "# 10. Write a program to input the month number and print the number of days in that month.\n",
        "\n",
        "month = int(input(\"Enter the month number (1-12): \"))\n",
        "\n",
        "if month >= 1 and month <= 12:\n",
        "\n",
        "    if month in [1, 3, 5, 7, 8, 10, 12]:\n",
        "        print(\"Number of days: 31\")\n",
        "    elif month == 2:\n",
        "        print(\"Number of days: 28 or 29\")  # Assuming not a leap year\n",
        "    else:\n",
        "        print(\"Number of days: 30\")\n",
        "else:\n",
        "    print(\"Invalid month number. Please enter a number between 1 and 12.\")\n"
      ],
      "metadata": {
        "colab": {
          "base_uri": "https://localhost:8080/"
        },
        "id": "ZgsWZrjgYBJK",
        "outputId": "9471a43e-b7e4-499f-f744-2b237077cecc"
      },
      "execution_count": null,
      "outputs": [
        {
          "output_type": "stream",
          "name": "stdout",
          "text": [
            "Enter the month number (1-12): 8\n",
            "Number of days: 31\n"
          ]
        }
      ]
    },
    {
      "cell_type": "code",
      "source": [
        "# 11. Write a program to count a minimum number of notes in a given amount.\n"
      ],
      "metadata": {
        "id": "3r5qKpYWYapE"
      },
      "execution_count": null,
      "outputs": []
    },
    {
      "cell_type": "code",
      "source": [
        "# 12. Write a program to input marks of five subjects Physics, Chemistry,\n",
        "# Biology, Mathematics, and Computer. Calculate percentage and grade\n",
        "# according to the following:\n",
        "# Percentage >= 90% : Grade A\n",
        "# Percentage >= 80% : Grade B\n",
        "# Percentage >= 70% : Grade C\n",
        "# Percentage >= 60% : Grade D\n",
        "# Percentage >= 40% : Grade E\n",
        "# Percentage < 40% : Grade F\n",
        "\n",
        "physics = float(input(\"Enter Physics marks: \"))\n",
        "chemistry = float(input(\"Enter Chemistry marks: \"))\n",
        "biology = float(input(\"Enter Biology marks: \"))\n",
        "mathematics = float(input(\"Enter Mathematics marks: \"))\n",
        "computer = float(input(\"Enter Computer marks: \"))\n",
        "\n",
        "# Calculate total marks and percentage\n",
        "total_marks = physics + chemistry + biology + mathematics + computer\n",
        "percentage = (total_marks / 500) * 100\n",
        "\n",
        "if ( percentage >= 90):\n",
        "       print (\"Grade A\")\n",
        "\n",
        "elif (percentage >= 80 ):\n",
        "        print(\"Grade B\")\n",
        "elif (percentage >= 70) :\n",
        "        print(\"Grade C\")\n",
        "elif (percentage >= 60):\n",
        "        print(\"Grade D\")\n",
        "else:\n",
        "        print(\"Grade E and F\")\n",
        "\n",
        "\n",
        "\n",
        "\n",
        "\n"
      ],
      "metadata": {
        "colab": {
          "base_uri": "https://localhost:8080/"
        },
        "id": "rVXfPWNiYgUd",
        "outputId": "a3ec8c3d-8441-457f-d104-09cba5a984a9"
      },
      "execution_count": null,
      "outputs": [
        {
          "output_type": "stream",
          "name": "stdout",
          "text": [
            "Enter Physics marks: 56\n",
            "Enter Chemistry marks: 34\n",
            "Enter Biology marks: 89\n",
            "Enter Mathematics marks: 11\n",
            "Enter Computer marks: 89\n",
            "Grade E and F\n"
          ]
        }
      ]
    }
  ]
}