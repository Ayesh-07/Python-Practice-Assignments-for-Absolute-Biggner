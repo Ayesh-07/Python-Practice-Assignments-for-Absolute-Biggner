{
  "nbformat": 4,
  "nbformat_minor": 0,
  "metadata": {
    "colab": {
      "provenance": [],
      "authorship_tag": "ABX9TyO5oQVg3gXZTLACWXhBNc3R",
      "include_colab_link": true
    },
    "kernelspec": {
      "name": "python3",
      "display_name": "Python 3"
    },
    "language_info": {
      "name": "python"
    }
  },
  "cells": [
    {
      "cell_type": "markdown",
      "metadata": {
        "id": "view-in-github",
        "colab_type": "text"
      },
      "source": [
        "<a href=\"https://colab.research.google.com/github/Ayesh-07/Python-Practice-Assignments-for-Absolute-Biggner/blob/main/workshop_Week_1_and_week_2.ipynb\" target=\"_parent\"><img src=\"https://colab.research.google.com/assets/colab-badge.svg\" alt=\"Open In Colab\"/></a>"
      ]
    },
    {
      "cell_type": "markdown",
      "source": [
        "Q1 - Assign your name to the variable `x`, convert it to uppercase, and then print it. Additionally, check\n",
        "if the uppercase version of your name contains the letter \"A\" and print the result."
      ],
      "metadata": {
        "id": "fiVFq1gFnhC6"
      }
    },
    {
      "cell_type": "code",
      "source": [
        "x = \"Ayesha\"\n",
        "uppercase = x.upper()\n",
        "print(uppercase)\n",
        "if \"A\" in uppercase:\n",
        "    print(\"Yes your name contains the letter 'A'\")\n",
        "else:\n",
        "    print(\"No your name does not contain letter 'A'\")"
      ],
      "metadata": {
        "colab": {
          "base_uri": "https://localhost:8080/"
        },
        "id": "usk6-qvonmX7",
        "outputId": "dd5e55b0-993c-4518-a8cc-76568da12959"
      },
      "execution_count": 7,
      "outputs": [
        {
          "output_type": "stream",
          "name": "stdout",
          "text": [
            "AYESHA\n",
            "Yes your name contains the letter 'A'\n"
          ]
        }
      ]
    },
    {
      "cell_type": "markdown",
      "source": [
        "Q2 - Print the value of `a` and `b` in one line using the `print` function with formatted string literals.\n",
        "Use a conditional expression to include an exclamation mark after `b` if `a` is greater than 5.\n",
        "`a = 10`\n",
        "`b = \"Guru\"`"
      ],
      "metadata": {
        "id": "5oTqBtpxp5cP"
      }
    },
    {
      "cell_type": "code",
      "source": [
        "a , b = 10 , \"Guru\"\n",
        "\n",
        "print (f\"{a} , {b}\")\n",
        "\n",
        "if a > 5:\n",
        "   print (f\"{b}!\")\n",
        "\n"
      ],
      "metadata": {
        "colab": {
          "base_uri": "https://localhost:8080/"
        },
        "id": "LdEtD5LTp8Z4",
        "outputId": "06456775-2d13-4a53-e207-eafdadd6d0f6"
      },
      "execution_count": 12,
      "outputs": [
        {
          "output_type": "stream",
          "name": "stdout",
          "text": [
            "10 , Guru\n",
            "Guru!\n"
          ]
        }
      ]
    },
    {
      "cell_type": "markdown",
      "source": [
        "Q3 - Write about 10 possible variable names, including multi-word names and names with numbers.\n",
        "Ensure the variable names follow Python naming conventions. Assign different data types to each of\n",
        "these variables and print their types.\n"
      ],
      "metadata": {
        "id": "UhvIJvOXrJcX"
      }
    },
    {
      "cell_type": "code",
      "source": [
        "\n",
        "name = \"Ayesha Nudrat\"  # String\n",
        "number_of_books = 25  # Integer\n",
        "has_pet = True  # Boolean\n",
        "weight_kg = 55.5  # Float\n",
        "hobbies = [\"Reading\", \"illusration\", \"Coding\"]  # List\n",
        "address_info = {\"city\": \"Sahiwal\", \"country\": \"Pakistan\"}  # Dictionary\n",
        "my_grade = (90, 88, 12)  # Tuple\n",
        "unique_ids = {101, 102, 103}  # Set\n",
        "Any_experience = None  # NoneType\n",
        "product_id_2024 = \"9923DFR2\"  # String with number\n",
        "\n",
        "# Printing the variable names and their types\n",
        "print(\"name:\", type(name))\n",
        "print(\"number_of_books:\", type(number_of_books))\n",
        "print(\"has_pet:\", type(has_pet))\n",
        "print(\"weight_kg:\", type(weight_kg))\n",
        "print(\"hobbies:\", type(hobbies))\n",
        "print(\"address_info:\", type(address_info))\n",
        "print(\"my_grade:\", type(my_grade))\n",
        "print(\"unique_ids:\", type(unique_ids))\n",
        "print(\"Any_experience:\", type(Any_experience))\n",
        "print(\"product_id_2024:\", type(product_id_2024))\n",
        "\n"
      ],
      "metadata": {
        "colab": {
          "base_uri": "https://localhost:8080/"
        },
        "id": "r9LUC3itrQ39",
        "outputId": "8a7d4547-827f-4fbc-c400-66dc6df9e8b8"
      },
      "execution_count": 14,
      "outputs": [
        {
          "output_type": "stream",
          "name": "stdout",
          "text": [
            "name: <class 'str'>\n",
            "number_of_books: <class 'int'>\n",
            "has_pet: <class 'bool'>\n",
            "weight_kg: <class 'float'>\n",
            "hobbies: <class 'list'>\n",
            "address_info: <class 'dict'>\n",
            "my_grade: <class 'tuple'>\n",
            "unique_ids: <class 'set'>\n",
            "Any_experience: <class 'NoneType'>\n",
            "product_id_2024: <class 'str'>\n"
          ]
        }
      ]
    },
    {
      "cell_type": "markdown",
      "source": [
        " Q4 - Print the data type of the variable `age`. Type cast the variable `age` to a float data type and print\n",
        "it. Then, convert it to a string and concatenate it with another string to form a sentence. Finally, check if\n",
        "the float representation is greater than 30 and print the result.\n",
        "`age = 29"
      ],
      "metadata": {
        "id": "y_XHz7kfzmHV"
      }
    },
    {
      "cell_type": "code",
      "source": [
        "age = 29\n",
        "print( age , type(age))\n",
        "\n",
        "age = float(age)\n",
        "print(age , type(age))\n",
        "\n",
        "age = str(age)\n",
        "sentence = \"My age is \" + age\n",
        "print(sentence)\n",
        "\n",
        "if float(age) > 30:\n",
        "    print  (\"Yes , float representation is greater than 30\")\n",
        "\n",
        "else:\n",
        "    print(\"No , float representation is not greater than 30\")\n",
        "\n",
        "\n",
        "\n"
      ],
      "metadata": {
        "colab": {
          "base_uri": "https://localhost:8080/"
        },
        "id": "cTVFpBDnzrf2",
        "outputId": "1f1575ee-3ee8-4aa6-bbf1-03ad142ff14b"
      },
      "execution_count": 19,
      "outputs": [
        {
          "output_type": "stream",
          "name": "stdout",
          "text": [
            "29 <class 'int'>\n",
            "29.0 <class 'float'>\n",
            "My age is 29.0\n",
            "No , float representation is not greater than 30\n"
          ]
        }
      ]
    },
    {
      "cell_type": "markdown",
      "source": [
        "Q5 - Given the length and width of a rectangle, calculate its area and perimeter, store them in new\n",
        "variables, print their values and data types. Then, determine if the area is greater than the perimeter and\n",
        "print the result.\n",
        "`length = 66`\n",
        "`width = 56.9`\n"
      ],
      "metadata": {
        "id": "hQO5ZaGh14kt"
      }
    },
    {
      "cell_type": "code",
      "source": [
        "length = 66\n",
        "width = 56.9\n",
        "\n",
        "area = length * width\n",
        "perimeter = 2 * (length + width)\n",
        "\n",
        "print(\"Area of a rectangle :\", area)\n",
        "print(\"Perimeter of a rectangle :\", perimeter)\n",
        "\n",
        "if area > perimeter:\n",
        "    print(\"Area is greater than perimeter\")\n",
        "else:\n",
        "    print(\"Area is not greater than perimeter\")"
      ],
      "metadata": {
        "colab": {
          "base_uri": "https://localhost:8080/"
        },
        "id": "MmFuHBDE19Gx",
        "outputId": "a2120276-c969-433f-f53a-ad680d08a6d2"
      },
      "execution_count": 20,
      "outputs": [
        {
          "output_type": "stream",
          "name": "stdout",
          "text": [
            "Area of a rectangle : 3755.4\n",
            "Perimeter of a rectangle : 245.8\n",
            "Area is greater than perimeter\n"
          ]
        }
      ]
    },
    {
      "cell_type": "markdown",
      "source": [
        " Q6 - Print the values of `x`, `y`, and `z` and determine the final value of each variable after a series of\n",
        "reassignment operations. Explain the changes and the order of operations.\n",
        "`x = 10`\n",
        "`z = 19`\n",
        "`y = 20`\n",
        "`y = 30`\n",
        "`x = 15`\n",
        "`z = 25`\n"
      ],
      "metadata": {
        "id": "6_A9GVtM2aYr"
      }
    },
    {
      "cell_type": "code",
      "source": [
        "x = 10\n",
        "y = 20\n",
        "z = 19\n",
        "print (x , y , z)\n",
        "\n",
        "x = 30\n",
        "y = 15\n",
        "z = 25\n",
        "print (x , y , z)\n",
        "\n",
        "\n"
      ],
      "metadata": {
        "colab": {
          "base_uri": "https://localhost:8080/"
        },
        "id": "AUDgsQ452hSn",
        "outputId": "2cf36327-d5a4-4303-9cba-ac847ab0b943"
      },
      "execution_count": 21,
      "outputs": [
        {
          "output_type": "stream",
          "name": "stdout",
          "text": [
            "10 20 19\n",
            "30 15 25\n"
          ]
        }
      ]
    },
    {
      "cell_type": "markdown",
      "source": [
        "Q7 - Show the output using a single-line comment where the variable `b` is commented out. Explain\n",
        "the impact of the comment on the program's execution. Then, uncomment `b` and change its value to\n",
        "\"Python\" if `a` is less than 200.\n",
        "`a = 100`\n",
        "`print(a)`\n",
        "`b = \"Python\"`\n",
        "`print(b)`\n"
      ],
      "metadata": {
        "id": "Ia5KMCxB26_u"
      }
    },
    {
      "cell_type": "code",
      "source": [
        "b = \"Python\"\n",
        "a = 100\n",
        "print(a)\n",
        "print(b)\n",
        "\n",
        "#print(b)  It does not execute\n",
        "\n",
        "if a < 200:\n",
        "    b = \"Python\"\n",
        "print(b)\n",
        "\n"
      ],
      "metadata": {
        "colab": {
          "base_uri": "https://localhost:8080/"
        },
        "id": "wX2CqkBs2_WM",
        "outputId": "573afe87-0ad2-4bd4-94fa-2675d16a74fb"
      },
      "execution_count": 23,
      "outputs": [
        {
          "output_type": "stream",
          "name": "stdout",
          "text": [
            "100\n",
            "Python\n",
            "Python\n"
          ]
        }
      ]
    },
    {
      "cell_type": "markdown",
      "source": [
        "Q8 - Comment out the following line from the paragraph using a multiline comment: (It was initially\n",
        "designed by Guido van Rossum in 1991 and developed by Python Software Foundation). Then,\n",
        "uncomment the line and count the number of words in the entire paragraph.\n",
        "Python is a widely-used general-purpose, high-level programming language. It was initially designed by\n",
        "Guido van Rossum in 1991 and developed by Python Software Foundation. It was mainly developed for\n",
        "emphasis on code readability, and its syntax allows programmers to express concepts in fewer lines of\n",
        "code."
      ],
      "metadata": {
        "id": "xfBqgTmy3rPC"
      }
    },
    {
      "cell_type": "code",
      "source": [
        "\"\"\"It was initially designed by Guido van Rossum in 1991 and developed by Python Software Foundation.\"\"\"\n",
        "\n",
        "\n",
        "Paragraph = \"(It was initially designed by Guido van Rossum in 1991 and developed by Python Software Foundation). Then, uncomment the line and count the number of words in the entire paragraph. Python is a widely-used general-purpose, high-level programming language. It was initially designed by Guido van Rossum in 1991 and developed by Python Software Foundation. It was mainly developed for emphasis on code readability, and its syntax allows programmers to express concepts in fewer lines of code.\"\n",
        "\n",
        "word_count = len(Paragraph.split())\n",
        "print (word_count)"
      ],
      "metadata": {
        "colab": {
          "base_uri": "https://localhost:8080/"
        },
        "id": "pFgn_ykX3uly",
        "outputId": "6a83bb54-0373-43ad-fa43-84e8382bf9a6"
      },
      "execution_count": 25,
      "outputs": [
        {
          "output_type": "stream",
          "name": "stdout",
          "text": [
            "76\n"
          ]
        }
      ]
    },
    {
      "cell_type": "markdown",
      "source": [
        "Q9 - Check whether the following statements adhere to the rules for assigning variables. Correct the\n",
        "code and then print \"Ali Ahmed\". Additionally, check if the corrected variable names are alphanumeric\n",
        "and print the result.\n",
        "`@variable name = \"Ali Ahmed.\"`\n",
        "`In = \"It cannot be print."
      ],
      "metadata": {
        "id": "HM0SkRSg5466"
      }
    },
    {
      "cell_type": "code",
      "source": [
        "variable_name = \"Ali Ahmed.\"\n",
        "valid_var_name = \"It cannot be print.\"\n",
        "print(\"variable_name\")\n",
        "print(variable_name.isalnum())"
      ],
      "metadata": {
        "colab": {
          "base_uri": "https://localhost:8080/"
        },
        "id": "fp57PcPd59jF",
        "outputId": "7ee2ddd8-1892-44c9-c72b-311e51b43db1"
      },
      "execution_count": 4,
      "outputs": [
        {
          "output_type": "stream",
          "name": "stdout",
          "text": [
            "variable_name\n",
            "False\n"
          ]
        }
      ]
    },
    {
      "cell_type": "markdown",
      "source": [
        "Q10 - Assign one value to multiple variables `x`, `y`, and `z`. Print their IDs to show they refer to the\n",
        "same memory location. Then, change the value of `y` and print the IDs again to demonstrate how\n",
        "memory allocation changes.\n",
        "`Value = 10`\n",
        "`Value = \"Python Programming.\"`"
      ],
      "metadata": {
        "id": "6oU1iXHm_iPv"
      }
    },
    {
      "cell_type": "code",
      "source": [
        "x = 10\n",
        "y = 10\n",
        "z = 10\n",
        "print(f\"id of {x} is :\", id(x))\n",
        "print( f\"id of {y} is :\",  id(y))\n",
        "print( f\"id of {z} is :\",id(z))\n",
        "\n",
        "y = \"Python Programming\"\n",
        "print(f\"id of {x} is :\", id(x))\n",
        "print( f\"id of {y} is :\",  id(y))\n",
        "print( f\"id of {z} is :\",id(z))\n",
        "\n"
      ],
      "metadata": {
        "colab": {
          "base_uri": "https://localhost:8080/"
        },
        "id": "aFezqfdN_lqp",
        "outputId": "a6604c1a-664f-413f-b475-bae20afc3ea3"
      },
      "execution_count": 8,
      "outputs": [
        {
          "output_type": "stream",
          "name": "stdout",
          "text": [
            "id of 10 is : 139933323182608\n",
            "id of 10 is : 139933323182608\n",
            "id of 10 is : 139933323182608\n",
            "id of 10 is : 139933323182608\n",
            "id of Python Programming is : 139932407633424\n",
            "id of 10 is : 139933323182608\n"
          ]
        }
      ]
    },
    {
      "cell_type": "markdown",
      "source": [
        "Q11 - Find the ID of the number 3 using the `id` function. Explain what the ID represents in Python.\n",
        "Then, create another variable with the same value and compare their IDs to discuss Python's handling of\n",
        "immutable objects."
      ],
      "metadata": {
        "id": "3wECbVvuBEoG"
      }
    },
    {
      "cell_type": "code",
      "source": [
        " x = 3\n",
        "print ( f\"id of {x} is :\", id(x))\n",
        "y = 3\n",
        "print(f\"id of {y} is :\", id(y))\n",
        "\n",
        "# Comparing their IDs\n",
        "ids_equal = x == y\n",
        "print(\"Are the IDs of x and y equal?\", ids_equal)"
      ],
      "metadata": {
        "colab": {
          "base_uri": "https://localhost:8080/"
        },
        "id": "fEZTLt8QBNLz",
        "outputId": "7b8c3a41-b4f0-4277-f8ad-1e10eeebbda7"
      },
      "execution_count": 11,
      "outputs": [
        {
          "output_type": "stream",
          "name": "stdout",
          "text": [
            "id of 3 is : 139933323182384\n",
            "id of 3 is : 139933323182384\n",
            "Are the IDs of x and y equal? True\n"
          ]
        }
      ]
    },
    {
      "cell_type": "markdown",
      "source": [
        "**ID Function:**\n",
        "\n",
        "The id() function in Python returns the \"identity\" of an object, which is a unique identifier for that object during its lifetime.\n",
        "The identity is a memory address where the object is stored.\n",
        "\n",
        "**Immutable Objects:**\n",
        "Numbers (integers), strings, and tuples are examples of immutable objects in Python.\n",
        "Immutable objects cannot be changed after their creation.\n",
        "When two variables are assigned the same immutable value, they point to the same memory location.\n",
        "Comparison:\n",
        "\n",
        "When x and y are both assigned the value 3, they point to the same object in memory.\n",
        "This is an optimization feature in Python for immutable objects, which helps save memory and improve performance."
      ],
      "metadata": {
        "id": "QqHEh22qBei9"
      }
    },
    {
      "cell_type": "markdown",
      "source": [
        "Q12 - Given the string `num_str = \"5.67\"`, write a program to convert it to a float and then to an\n",
        "integer. Print the results and explain the changes in data type. Additionally, check if the original string\n",
        "can be directly converted to an integer and handle any errors gracefully.\n"
      ],
      "metadata": {
        "id": "JSjvdCxxCl_M"
      }
    },
    {
      "cell_type": "code",
      "source": [
        "num_str = \"5.67\"\n",
        "convert_float = float(num_str)\n",
        "print(\"Float value:\", convert_float)\n",
        "convert_int = int(convert_float)\n",
        "print(\"Integer value:\", convert_int)\n",
        "\n",
        ""
      ],
      "metadata": {
        "colab": {
          "base_uri": "https://localhost:8080/"
        },
        "id": "TLy_rRFJJW7F",
        "outputId": "9168baae-a335-4a30-fea8-5695ed85f0c1"
      },
      "execution_count": 17,
      "outputs": [
        {
          "output_type": "stream",
          "name": "stdout",
          "text": [
            "Float value: 5.67\n",
            "Integer value: 5\n"
          ]
        }
      ]
    },
    {
      "cell_type": "markdown",
      "source": [
        "Q13 - Write a program that takes two numbers as input and prints their product and sum. Then,\n",
        "subtract the smaller number from the larger one and print the result. Use formatted strings for the\n",
        "output. Additionally, handle the case where the numbers are equal and print an appropriate message."
      ],
      "metadata": {
        "id": "UGzT5BtACWxR"
      }
    },
    {
      "cell_type": "code",
      "source": [
        "num1 = float(input(\"Enter your First number : \"))\n",
        "num2 = float(input(\"Enter your Second number : \"))\n",
        "if num1 == num2:\n",
        "    print(\"Both numbers are equal\")\n",
        "product = num1 * num2\n",
        "sum = num1 + num2\n",
        "print((f\"Product of  the {int(num1)} and {int(num2)} is : '{int(product)}'\"))\n",
        "print((f\"Sum of  the {int(num1)} and {int(num2)} is : '{int(sum)}'\"))"
      ],
      "metadata": {
        "colab": {
          "base_uri": "https://localhost:8080/"
        },
        "id": "NcSGgu0_NoCI",
        "outputId": "335e1915-78a6-4336-f82a-8a45d78561cd"
      },
      "execution_count": 3,
      "outputs": [
        {
          "output_type": "stream",
          "name": "stdout",
          "text": [
            "Enter your First number : 3\n",
            "Enter your Second number : 3\n",
            "Both numbers are equal\n",
            "Product of  the 3 and 3 is : '9'\n",
            "Sum of  the 3 and 3 is : '6'\n"
          ]
        }
      ]
    },
    {
      "cell_type": "markdown",
      "source": [
        " Q14 - Start with `b = 20`. Use compound assignment operators to:\n",
        "Increase `b` by 10\n",
        "Divide `b` by 5\n",
        "Multiply `b` by 4\n",
        "Subtract 5 from `b`\n",
        "Print the final value of `b`. Explain each operation's impact on `b`. Then, check if the final value of `b` is\n",
        "a multiple of 10 and print the result.\n"
      ],
      "metadata": {
        "id": "YPzk4H_XPS5w"
      }
    },
    {
      "cell_type": "code",
      "source": [
        "b = 20\n",
        "b += 10\n",
        "print(b)\n",
        "b /= 5\n",
        "print(b)\n",
        "b *= 4\n",
        "print(b)\n",
        "b -= 5\n",
        "print(b)\n",
        "\n",
        "if b % 10 == 0:\n",
        " print (\"True\")\n",
        "else:\n",
        "  print (\"False\")"
      ],
      "metadata": {
        "colab": {
          "base_uri": "https://localhost:8080/"
        },
        "id": "2aSN9QDHPZww",
        "outputId": "5b0d0e08-ee3d-4c13-e7d2-b30c71204728"
      },
      "execution_count": 6,
      "outputs": [
        {
          "output_type": "stream",
          "name": "stdout",
          "text": [
            "30\n",
            "6.0\n",
            "24.0\n",
            "19.0\n",
            "False\n"
          ]
        }
      ]
    },
    {
      "cell_type": "markdown",
      "source": [
        "Q15 - Given the string \"Python Programming\", perform the following operations:\n",
        "Extract and print the substring \"Programming\".\n",
        "Replace \"Python\" with \"Java\" and print the result.\n",
        "Split the string into words and print the list.\n",
        "Convert the entire string to uppercase and print it"
      ],
      "metadata": {
        "id": "w9RcE67dP8ry"
      }
    },
    {
      "cell_type": "code",
      "source": [
        "x = \"Python Programming\"\n",
        "print(x[7:19])\n",
        "print(x.replace(\"Python\", \"Java\"))\n",
        "print(x.split())\n",
        "print(x.upper())"
      ],
      "metadata": {
        "colab": {
          "base_uri": "https://localhost:8080/"
        },
        "id": "HDo4UKYlQAzD",
        "outputId": "47566d5f-8139-4a8f-e7ed-d765f0eaf8d0"
      },
      "execution_count": 7,
      "outputs": [
        {
          "output_type": "stream",
          "name": "stdout",
          "text": [
            "Programming\n",
            "Java Programming\n",
            "['Python', 'Programming']\n",
            "PYTHON PROGRAMMING\n"
          ]
        }
      ]
    },
    {
      "cell_type": "markdown",
      "source": [
        "Q16 - Write a program to check if the substring \"Python\" exists in the string \"I am learning Python\n",
        "programming\". Print `True` if it exists, otherwise print `False`. Use the `in` operator for the check. Also,\n",
        "find and print the position of the substring \"Python\" in the string.\n",
        ""
      ],
      "metadata": {
        "id": "7MwCtNKuQiNq"
      }
    },
    {
      "cell_type": "code",
      "source": [
        "x = \"I am learning Python programming\"\n",
        "if \"Python\" in x:\n",
        "    print (\"True\")\n",
        "else:\n",
        "    print (\"False\")\n",
        "y = x.index(\"Python\")\n",
        "print(y)"
      ],
      "metadata": {
        "colab": {
          "base_uri": "https://localhost:8080/"
        },
        "id": "FokPGiSsQmjj",
        "outputId": "31c56e63-8735-4156-c266-3ccd9b1f390e"
      },
      "execution_count": 9,
      "outputs": [
        {
          "output_type": "stream",
          "name": "stdout",
          "text": [
            "True\n",
            "14\n"
          ]
        }
      ]
    },
    {
      "cell_type": "markdown",
      "source": [
        "concepts:\n",
        "\n",
        "**count**\n",
        "\n",
        "returns the number of occurrences of a substring in a string.\n",
        "\n",
        "**find**\n",
        "\n",
        "returns the index of the first occurrence of a substring in a string (or -1 if not found).\n",
        "\n",
        "**index**\n",
        "\n",
        "returns the index of the first occurrence of a substring in a string (or raises a ValueError if not found)."
      ],
      "metadata": {
        "id": "BzQ3TpWRULNh"
      }
    },
    {
      "cell_type": "markdown",
      "source": [
        "Q17 - Write a program to concatenate three strings: \"Python\", \"is\", and \"fun!\" and print the result. Use\n",
        "the `join` method instead of the `+` operator. Additionally, replace any spaces in the concatenated string\n",
        "with hyphens and print the final result"
      ],
      "metadata": {
        "id": "UxwieUiBXb_D"
      }
    },
    {
      "cell_type": "code",
      "source": [
        "x = \"Python\"\n",
        "y = \"is\"\n",
        "z = \"fun!\"\n",
        "join = (\" \".join([x,y,z]))\n",
        "print(join)\n",
        "print(join.replace(\" \", \"-\"))\n",
        "\n"
      ],
      "metadata": {
        "colab": {
          "base_uri": "https://localhost:8080/"
        },
        "id": "1Dxt2GLKXhSv",
        "outputId": "0756e794-8c1d-4502-f3e7-20aa3febff92"
      },
      "execution_count": 20,
      "outputs": [
        {
          "output_type": "stream",
          "name": "stdout",
          "text": [
            "Python is fun!\n",
            "Python-is-fun!\n"
          ]
        }
      ]
    },
    {
      "cell_type": "markdown",
      "source": [
        "Q18 - Assign the following multiline string to a variable and print it:\n",
        "`\"Hello,\\nThis is a multiline string.\\nWelcome to Python programming!\"`\n",
        "Then, split the string into a list of sentences and print the list."
      ],
      "metadata": {
        "id": "ZI9ZpBbZZNH9"
      }
    },
    {
      "cell_type": "code",
      "source": [
        "x = \"Hello,\\nThis is a multiline string.\\nWelcome to Python programming!\"\n",
        "print (x.split())"
      ],
      "metadata": {
        "colab": {
          "base_uri": "https://localhost:8080/"
        },
        "id": "WO9kcJMzZmSL",
        "outputId": "e9c8db85-170a-40a4-9e6b-bd8db1ac43d5"
      },
      "execution_count": 1,
      "outputs": [
        {
          "output_type": "stream",
          "name": "stdout",
          "text": [
            "['Hello,', 'This', 'is', 'a', 'multiline', 'string.', 'Welcome', 'to', 'Python', 'programming!']\n"
          ]
        }
      ]
    },
    {
      "cell_type": "markdown",
      "source": [
        " Q19 - Concatenate the strings \"Python\" and \"Programming\" with a space in between. Print the result.\n",
        "Also, count the occurrences of the letter 'o' in the result. Additionally, check if the result starts with \"Py\"\n",
        "and ends with \"ing\"."
      ],
      "metadata": {
        "id": "hqlzackSrmR6"
      }
    },
    {
      "cell_type": "code",
      "source": [
        "x = \"Python\"\n",
        "y = \"Programming\"\n",
        "z = \" \" . join([x,y])\n",
        "print(z)\n",
        "print(z.count(\"o\"))\n",
        "print(z.startswith(\"Py\") and z.endswith(\"ing\"))"
      ],
      "metadata": {
        "colab": {
          "base_uri": "https://localhost:8080/"
        },
        "id": "EvM62WrmrqhD",
        "outputId": "d701a3f6-b50a-4dbd-abec-2852999eb941"
      },
      "execution_count": 4,
      "outputs": [
        {
          "output_type": "stream",
          "name": "stdout",
          "text": [
            "Python Programming\n",
            "2\n",
            "True\n"
          ]
        }
      ]
    },
    {
      "cell_type": "markdown",
      "source": [
        " Q20 - There are two variables `x = 12` and `y = 13`. Show the output as `1213` but the data type of the\n",
        "output must be `int`. You have to use string concatenation. Then, convert the result back to an integer\n",
        "and verify its data type."
      ],
      "metadata": {
        "id": "vDFi25ozsQ3y"
      }
    },
    {
      "cell_type": "code",
      "source": [
        "x = 12\n",
        "y = 13\n",
        "result = str(x) + str(y)\n",
        "print(result)\n",
        "print (int(result))\n",
        "print (type(int(result)))"
      ],
      "metadata": {
        "colab": {
          "base_uri": "https://localhost:8080/"
        },
        "id": "hOft5WRasWdN",
        "outputId": "a588aedb-ef76-407e-8aee-b237ec9fef85"
      },
      "execution_count": 7,
      "outputs": [
        {
          "output_type": "stream",
          "name": "stdout",
          "text": [
            "1213\n",
            "1213\n",
            "<class 'int'>\n"
          ]
        }
      ]
    },
    {
      "cell_type": "markdown",
      "source": [
        "Q21 - Given the string `text = \"PythonProgramming\"`, print every second character from the string\n",
        "starting from the second character. Use slicing to achieve this. Also, print the string in reverse order."
      ],
      "metadata": {
        "id": "4Mulodlvs4wi"
      }
    },
    {
      "cell_type": "code",
      "source": [
        "text = \"PythonProgramming\"\n",
        "print(text[1::2])\n",
        "print(text[::-1])\n"
      ],
      "metadata": {
        "colab": {
          "base_uri": "https://localhost:8080/"
        },
        "id": "jXqLZq71tme8",
        "outputId": "8b7284d8-e226-47f6-a0c6-68f6b354237e"
      },
      "execution_count": 8,
      "outputs": [
        {
          "output_type": "stream",
          "name": "stdout",
          "text": [
            "yhnrgamn\n",
            "gnimmargorPnohtyP\n"
          ]
        }
      ]
    },
    {
      "cell_type": "markdown",
      "source": [
        "Q22 - Convert the string \"good morning\" to upper case and print it. Write a program to check if the\n",
        "string \"Learning Python\" starts with \"Learn\" and ends with \"thon\". Given the string \"hellohello\", count\n",
        "how many times the substring \"lo\" appears. Use appropriate string methods.\n"
      ],
      "metadata": {
        "id": "TqpK7a-8BCpx"
      }
    },
    {
      "cell_type": "code",
      "source": [
        "x = \"good morning\"\n",
        "print(x.upper())\n",
        "y =  \"Learning Python\"\n",
        "print(y.startswith(\"Learn\") and y.endswith(\"thon\"))\n",
        "z = \"hellohello\"\n",
        "print(z.count(\"lo\"))"
      ],
      "metadata": {
        "colab": {
          "base_uri": "https://localhost:8080/"
        },
        "id": "VwHgGDMoBMhm",
        "outputId": "8660ad5d-4e1f-4869-ee7c-440412aaa2ce"
      },
      "execution_count": 10,
      "outputs": [
        {
          "output_type": "stream",
          "name": "stdout",
          "text": [
            "GOOD MORNING\n",
            "True\n",
            "2\n"
          ]
        }
      ]
    },
    {
      "cell_type": "markdown",
      "source": [
        " Q23 - Write a program to print the following string exactly as it appears: `The file is located at\n",
        "C:\\new_folder\\text.txt`. Use escape characters where necessary. Also, replace the backslashes with\n",
        "forward slashes and print the modified string.\n"
      ],
      "metadata": {
        "id": "SvPyTWr0B6Q7"
      }
    },
    {
      "cell_type": "code",
      "source": [
        "# Original string with escape characters\n",
        "x = \"The file is located at C:\\\\new_folder\\\\text.txt\"\n",
        "\n",
        "# Print the original string\n",
        "print(x)\n",
        "\n",
        "# Replace backslashes with forward slashes\n",
        "y= x.replace(\"\\\\\", \"/\")\n",
        "\n",
        "# Print the modified string\n",
        "print(y)\n",
        "\n"
      ],
      "metadata": {
        "colab": {
          "base_uri": "https://localhost:8080/"
        },
        "id": "4lDydZF-B9VT",
        "outputId": "74186c49-5ba0-4b55-f04f-1b4a4e1fbce2"
      },
      "execution_count": 14,
      "outputs": [
        {
          "output_type": "stream",
          "name": "stdout",
          "text": [
            "The file is located at C:\\new_folder\\text.txt\n",
            "The file is located at C:/new_folder/text.txt\n"
          ]
        }
      ]
    },
    {
      "cell_type": "markdown",
      "source": [
        "Q24 - Given the string `\" Python Programming \"`, remove the leading and trailing whitespaces and\n",
        "print the cleaned string. Use the appropriate string method. Additionally, replace any remaining internal\n",
        "spaces with underscores."
      ],
      "metadata": {
        "id": "Ib7LnZQDCBTv"
      }
    },
    {
      "cell_type": "code",
      "source": [
        "x = \" Python Programming \"\n",
        "# Remove leading and trailing whitespace\n",
        "y = x.strip()\n",
        "print(y)\n",
        "print(y.replace(\" \", \"_\"))"
      ],
      "metadata": {
        "colab": {
          "base_uri": "https://localhost:8080/"
        },
        "id": "yOzbTJppCF1P",
        "outputId": "110304d3-30c2-415a-9415-70ca905f6548"
      },
      "execution_count": 16,
      "outputs": [
        {
          "output_type": "stream",
          "name": "stdout",
          "text": [
            "Python Programming\n",
            "Python_Programming\n"
          ]
        }
      ]
    },
    {
      "cell_type": "markdown",
      "source": [
        "Q25 - Write a program to replace all occurrences of \"apple\" with \"orange\" in the string `\"apple apple\n",
        "banana apple\"` and print the result. Use the `replace` method. Then, split the modified string into\n",
        "individual words and print the resulting list.\n"
      ],
      "metadata": {
        "id": "fB12K-IzCIVk"
      }
    },
    {
      "cell_type": "code",
      "source": [
        "x = \"apple apple banana apple\"\n",
        "y = x.replace(\"apple\", \"banana\")\n",
        "print (y)\n",
        "z = y.split()\n",
        "print(z)"
      ],
      "metadata": {
        "colab": {
          "base_uri": "https://localhost:8080/"
        },
        "id": "eiiWwsUnCOod",
        "outputId": "5c204d6b-956f-4ed7-d909-ccbe1493bd79"
      },
      "execution_count": 17,
      "outputs": [
        {
          "output_type": "stream",
          "name": "stdout",
          "text": [
            "banana banana banana banana\n",
            "['banana', 'banana', 'banana', 'banana']\n"
          ]
        }
      ]
    },
    {
      "cell_type": "markdown",
      "source": [
        "Q26 - Split the string `\"one-two-three-four\"` by the dash `-` and print the resulting list. Use the `split`\n",
        "method. Additionally, join the list back into a single string using spaces as separators and print the result"
      ],
      "metadata": {
        "id": "-pIFYkJ7CPZx"
      }
    },
    {
      "cell_type": "code",
      "source": [
        "x = \"one-two-three-four\"\n",
        "y = x.split(\"-\")\n",
        "print(y)\n",
        "z = \" \".join(y)\n",
        "print(z)"
      ],
      "metadata": {
        "colab": {
          "base_uri": "https://localhost:8080/"
        },
        "id": "NJOU9gyMCVO0",
        "outputId": "c20351e3-1111-48cb-e85e-0aa46c001dec"
      },
      "execution_count": 20,
      "outputs": [
        {
          "output_type": "stream",
          "name": "stdout",
          "text": [
            "['one', 'two', 'three', 'four']\n",
            "one two three four\n"
          ]
        }
      ]
    },
    {
      "cell_type": "markdown",
      "source": [
        "Q27 - Write a program to reverse the string `\"Beginners\"` and print the result. Use slicing to reverse the\n",
        "string. Additionally, check if the reversed string is a palindrome and print the result."
      ],
      "metadata": {
        "id": "ck3Agc_dCV9l"
      }
    },
    {
      "cell_type": "code",
      "source": [
        "x = \"Beginners\"\n",
        "y = x[::-1]\n",
        "print (y)\n",
        "if y == x:\n",
        "    print(\"Palindrome\")\n",
        "else:\n",
        "    print(\"Not Palindrome\")\n"
      ],
      "metadata": {
        "colab": {
          "base_uri": "https://localhost:8080/"
        },
        "id": "f3bvA_dsCZ7T",
        "outputId": "82cc8c75-0430-496b-c10b-67daf859f527"
      },
      "execution_count": 22,
      "outputs": [
        {
          "output_type": "stream",
          "name": "stdout",
          "text": [
            "srennigeB\n",
            "Not Palindrome\n"
          ]
        }
      ]
    },
    {
      "cell_type": "markdown",
      "source": [
        " Q28 - Simple Calculator: Create a simple calculator that can perform basic arithmetic operations\n",
        "(addition, subtraction, multiplication, and division). The program should:\n",
        "Take two numbers as input from the user.\n",
        "Ask the user to choose an operation (add, subtract, multiply, divide).\n",
        "Perform the chosen operation and print the result.\n",
        "Make use of concepts like type casting, arithmetic operators, assignment operators, and string methods\n",
        "where applicable. Additionally, handle division by zero and print an appropriate message.\n"
      ],
      "metadata": {
        "id": "hBq8twwdCaY3"
      }
    },
    {
      "cell_type": "code",
      "source": [
        "# Take two numbers as input from the user (int or float)\n",
        "num_1 = float(input (\"Enter your first number: \"))\n",
        "num_2 = float(input (\"Enter your first number: \"))\n",
        "# Ask the user to choose an operation\n",
        "print(\"Choose an operation:\")\n",
        "print(\"1. Add\")\n",
        "print(\"2. Subtract\")\n",
        "print(\"3. Multiply\")\n",
        "print(\"4. Divide\")\n",
        "operation = input(\"Enter your choice (1/2/3/4): \")\n",
        "# Initialize result to None\n",
        "\n",
        "result = None\n",
        "# Perform the chosen operation and convert the result to int\n",
        "if operation == '1':\n",
        "    result = num_1 + num_2\n",
        "    print(f\"The result of {num_1} + {num_2} is: {round(result)}\")\n",
        "elif operation == '2':\n",
        "    result = num_1 - num_2\n",
        "    print(f\"The result of {num_1} - {num_2} is: {round(result)}\")\n",
        "elif operation == '3':\n",
        "    result = num_1 * num_2\n",
        "    print(f\"The result of {num_1} * {num_2} is: {round(result)}\")\n",
        "elif operation == '4':\n",
        "    if num_2 == 0:\n",
        "        print(\"Error: Division by zero is not allowed.\")\n",
        "    else:\n",
        "        result = num_1 / num_2\n",
        "        print(f\"The result of {num_1} / {num_2} is: {(result)}\")\n",
        "\n",
        "\n",
        "else:\n",
        "    print(\"Invalid input. Please enter numeric values.\")\n"
      ],
      "metadata": {
        "colab": {
          "base_uri": "https://localhost:8080/"
        },
        "id": "YGBZwm9OCerT",
        "outputId": "73af7bf1-3076-4c69-d963-139f1aa10be1"
      },
      "execution_count": 15,
      "outputs": [
        {
          "output_type": "stream",
          "name": "stdout",
          "text": [
            "Enter your first number: 78\n",
            "Enter your first number: 5\n",
            "Choose an operation:\n",
            "1. Add\n",
            "2. Subtract\n",
            "3. Multiply\n",
            "4. Divide\n",
            "Enter your choice (1/2/3/4): 4\n",
            "The result of 78.0 / 5.0 is: 15.6\n"
          ]
        }
      ]
    },
    {
      "cell_type": "markdown",
      "source": [
        " Q29 - Given the following variables:\n",
        "`x = 42`\n",
        "`y = \"hello\"`\n",
        "`z = [1, 2, 3]`\n",
        "`a = 3.14`\n",
        "`b = False`\n",
        "\n",
        "\n",
        "Perform the following assignments and operations:\n",
        "1. Assign the value of `y` to `x`.\n",
        "2. Assign the second element of list `z` to `y`.\n",
        "3. Change the third element of list `z` to the value of `x`.\n",
        "4. Assign the value of `b` to `a`.\n",
        "5. Check if `x` is equal to `y` and assign the result to `b`.\n",
        "What are the resulting values of `x`, `y`, `z`, `a`, and `b` after all the assignments and operations? What\n",
        "are the resulting data types of `x`, `y`, `z`, `a`, and `b` after all the assignments and operations? Explain\n"
      ],
      "metadata": {
        "id": "6S6SnLVzfZeS"
      }
    },
    {
      "cell_type": "code",
      "source": [
        "x = 42\n",
        "y = \"hello\"\n",
        "z = [1, 2, 3]\n",
        "a = 3.14\n",
        "b = False\n",
        "\n",
        "\n",
        "# Assign the value of y to x.\n",
        "x = y\n",
        "print(\"value of x is :\", x)\n",
        "print(\"value of y is :\", y)\n",
        "\n",
        "# Assign the second element of list z to y.\n",
        "y = z[1]\n",
        "print(\"value of y is :\", y)\n",
        "\n",
        "# Change the third element of list z to the value of x.\n",
        "z[2] = x\n",
        "\n",
        "print(\"value of x is :\", x)\n",
        "\n",
        "# Assign the value of b to a.\n",
        "\n",
        "b = a\n",
        "print(\"value of b is :\", b)\n",
        "\n",
        "# Check if x is equal to y and assign the result to b\n",
        "\n",
        "b = x == y\n",
        "print(\"value of b is :\", b)\n",
        "\n",
        "# resulting values , operations  and data types of x, y, z, a, and b after all the assignments\n",
        "\n",
        "print(\"value of x is :\", x , type(x))\n",
        "print(\"value of y is :\", y ,   type(y))\n",
        "print(\"value of z is :\", z ,   type(z))\n",
        "print(\"value of a is :\", a ,  type(a))\n",
        "print(\"value of b is :\", b ,  type(b) )\n",
        "\n",
        "\n"
      ],
      "metadata": {
        "colab": {
          "base_uri": "https://localhost:8080/"
        },
        "id": "Ja7FzCWlh4V6",
        "outputId": "a0ce0f25-ea1e-4c5e-b2ac-71517f00cf98"
      },
      "execution_count": 28,
      "outputs": [
        {
          "output_type": "stream",
          "name": "stdout",
          "text": [
            "value of x is : hello\n",
            "value of y is : hello\n",
            "value of y is : 2\n",
            "value of x is : hello\n",
            "value of b is : 3.14\n",
            "value of b is : False\n",
            "value of x is : hello <class 'str'>\n",
            "value of y is : 2 <class 'int'>\n",
            "value of z is : [1, 2, 'hello'] <class 'list'>\n",
            "value of a is : 3.14 <class 'float'>\n",
            "value of b is : False <class 'bool'>\n"
          ]
        }
      ]
    }
  ]
}